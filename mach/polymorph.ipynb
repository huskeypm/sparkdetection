{
 "metadata": {
  "kernelspec": {
   "display_name": "Python 2",
   "language": "python",
   "name": "python2"
  },
  "language_info": {
   "codemirror_mode": {
    "name": "ipython",
    "version": 2
   },
   "file_extension": ".py",
   "mimetype": "text/x-python",
   "name": "python",
   "nbconvert_exporter": "python",
   "pygments_lexer": "ipython2",
   "version": "2.7.13"
  },
  "name": "",
  "signature": "sha256:ff97abf6eb1af2e01ff3ee2ae8ecfb7308abfdbd640cb27fdd03621e6fd7a9d0"
 },
 "nbformat": 3,
 "nbformat_minor": 0,
 "worksheets": [
  {
   "cells": [
    {
     "cell_type": "markdown",
     "metadata": {},
     "source": [
      "## Series of routines for generating polymorphic crystalline surfaces. \n",
      "\n",
      "Not robust, but can be with some minor tweaks"
     ]
    },
    {
     "cell_type": "code",
     "collapsed": true,
     "input": [
      "import matplotlib.pylab as plt\n",
      "import numpy as np\n",
      "%matplotlib inline"
     ],
     "language": "python",
     "metadata": {},
     "outputs": [],
     "prompt_number": 1
    },
    {
     "cell_type": "markdown",
     "metadata": {},
     "source": [
      "Routines to see if point is within polygon"
     ]
    },
    {
     "cell_type": "code",
     "collapsed": true,
     "input": [
      "# returns indices of points within polygon\n",
      "def pnpoly(\n",
      "    vert, # list of vertices defining closed polygon\n",
      "    test  # pts considered\n",
      "):\n",
      "    n = vert.shape[0]\n",
      "    m = test.shape[0]\n",
      "    \n",
      "    result = np.zeros(m)\n",
      "    \n",
      "    for i in range(n):\n",
      "        j = (i+n-1) % n\n",
      "        for k in range(m):\n",
      "            if (((vert[i,1] > test[k,1])!=(vert[j,1] > test[k,1])) and\\\n",
      "               (test[k,0] < (vert[j,0]-vert[i,0])*(test[k,1]-vert[i,1])/ \\\n",
      "               (vert[j,1]-vert[i,1]) + vert[i,0])):\n",
      "               result [k] = not result [k]\n",
      "    return result         \n",
      "\n",
      "# returns list of points within polgon\n",
      "def GetWithinPoly(vert,test):\n",
      "    result =pnpoly(vert,test)\n",
      "    passing = test[np.argwhere(result>0),:]\n",
      "    nPts = np.shape(passing)[0]\n",
      "    passing = np.reshape(passing,[nPts,2])\n",
      "    return passing"
     ],
     "language": "python",
     "metadata": {},
     "outputs": [],
     "prompt_number": 2
    },
    {
     "cell_type": "heading",
     "level": 4,
     "metadata": {},
     "source": [
      "Test algorithm"
     ]
    },
    {
     "cell_type": "code",
     "collapsed": true,
     "input": [
      "# bounding vertices\n",
      "verts = np.array([[0,0],[1,0],[1,1],[0,1]])\n",
      "\n",
      "# random pts\n",
      "pts = np.reshape(np.random.rand(1000*2), [1000,2])-np.array([0.5,0.5])\n",
      "pts *= 4."
     ],
     "language": "python",
     "metadata": {},
     "outputs": [],
     "prompt_number": 3
    },
    {
     "cell_type": "code",
     "collapsed": false,
     "input": [
      "# find those within polygon\n",
      "passing = GetWithinPoly(verts,pts)\n",
      "\n",
      "plt.scatter(pts[:,0],pts[:,1],color='r')\n",
      "plt.scatter(passing[:,0],passing[:,1],color='b')"
     ],
     "language": "python",
     "metadata": {},
     "outputs": [
      {
       "metadata": {},
       "output_type": "pyout",
       "prompt_number": 4,
       "text": [
        "<matplotlib.collections.PathCollection at 0x7f989c0a0fd0>"
       ]
      },
      {
       "metadata": {},
       "output_type": "display_data",
       "png": "[encoded data removed]",
       "text": [
        "<matplotlib.figure.Figure at 0x7f989c10e090>"
       ]
      }
     ],
     "prompt_number": 4
    },
    {
     "cell_type": "markdown",
     "metadata": {},
     "source": [
      "Generate random polygon regions (centered at 0,0)\n",
      "\n",
      "- probably want to revise this so that the vectors are randomly distributed within 2pi/n sectors; this would prevent angles >pi, which will screw up polygon generation later\n",
      "- need to enforce that angles are < pi rad\n",
      "- probably want to base vector lengths on their intersection with a square bounding box (actually, not necessary if I only select from points generated within a square region (see below))"
     ]
    },
    {
     "cell_type": "code",
     "collapsed": true,
     "input": [
      "# choose randomly on grid \n",
      "def GenIntersecting(nCuts=4,length=10.):\n",
      "    eps = 1e-1\n",
      "    daRange =[0,2*np.pi-eps]\n",
      "\n",
      "    # randomize over 2pi\n",
      "    thetas = np.sort(np.random.rand(nCuts))\n",
      "    thetas = thetas*daRange[1]-thetas*daRange[0]\n",
      "    #print thetas\n",
      "    coords = np.array([np.cos(thetas),np.sin(thetas)])\n",
      "    coords = np.transpose(coords)\n",
      "    coords *= length\n",
      "    #print np.sin(thetas)\n",
      "\n",
      "    # make into vectors \n",
      "    vecs = []\n",
      "    plt.axis('equal')\n",
      "    for i,v in enumerate(coords):\n",
      "        #print v\n",
      "        z = np.array([[0,0],v])\n",
      "        vecs.append(z)\n",
      "    #    plt.plot()  \n",
      "        plt.plot(z[:,0],z[:,1])       \n",
      "    #plt.xlim([-1,1])\n",
      "    #plt.ylim([-1,1])\n",
      "    return vecs"
     ],
     "language": "python",
     "metadata": {},
     "outputs": [],
     "prompt_number": 5
    },
    {
     "cell_type": "markdown",
     "metadata": {},
     "source": [
      "For now, run a few times until angles are all < pi rad and aren't overly small"
     ]
    },
    {
     "cell_type": "code",
     "collapsed": false,
     "input": [
      "vecs = GenIntersecting(nCuts=4)\n",
      "print np.shape(vecs)"
     ],
     "language": "python",
     "metadata": {},
     "outputs": [
      {
       "output_type": "stream",
       "stream": "stdout",
       "text": [
        "(4, 2, 2)\n"
       ]
      },
      {
       "metadata": {},
       "output_type": "display_data",
       "png": "[encoded data removed]",
       "text": [
        "<matplotlib.figure.Figure at 0x7f989722d7d0>"
       ]
      }
     ],
     "prompt_number": 74
    },
    {
     "cell_type": "code",
     "collapsed": false,
     "input": [
      "# \n",
      "# vectors from previous iter were ordered by angle; here, we create \n",
      "# isolated regions by defining a vector that links the termini of two 'consecutive' \n",
      "# vectors\n",
      "def GenClosedPolygons(\n",
      "    vecs, # list of 'ordered' vectors from GenIntersecting\n",
      "    displacement = 0  # displace each polygon a distance of 'displacement' from origin (in direction of bisecting vectors)\n",
      "):\n",
      "    polygons = []\n",
      "\n",
      "    vecs=np.asarray(vecs)\n",
      "    n = np.shape(vecs)[0]\n",
      "    #ar = np.arange(ve)\n",
      "    for i in np.arange(n):\n",
      "        s=i\n",
      "        if i<n-1:\n",
      "            f = i+1\n",
      "        else:  # grab next index\n",
      "            f = 0  \n",
      "        #print s,f\n",
      "        vertA = vecs[s,1,:] # '0' is origin\n",
      "        vertB = vecs[f,1,:]\n",
      "\n",
      "        polygoni = np.array([\n",
      "            [0,0],vertA,vertB,[0,0]\n",
      "        ])\n",
      "        \n",
      "        # displace \n",
      "        dispVec = 0.5*(vertA + vertB)\n",
      "        #dispVec = np.array([0,1.])\n",
      "        dispVec *= displacement\n",
      "        #print polygoni\n",
      "        #print polygoni + dispVec\n",
      "        #print \"###\"\n",
      "        polygoni = polygoni + dispVec\n",
      "        \n",
      "        polygons.append(polygoni)\n",
      "    return polygons"
     ],
     "language": "python",
     "metadata": {},
     "outputs": [],
     "prompt_number": 75
    },
    {
     "cell_type": "code",
     "collapsed": false,
     "input": [
      "polygons  = GenClosedPolygons( vecs,displacement=0.04 )\n",
      "\n",
      "   "
     ],
     "language": "python",
     "metadata": {},
     "outputs": [],
     "prompt_number": 76
    },
    {
     "cell_type": "markdown",
     "metadata": {},
     "source": [
      "Adding this so it works with hexagonal Packing"
     ]
    },
    {
     "cell_type": "code",
     "collapsed": false,
     "input": [],
     "language": "python",
     "metadata": {},
     "outputs": [],
     "prompt_number": 76
    },
    {
     "cell_type": "heading",
     "level": 4,
     "metadata": {},
     "source": [
      "Just a demo to show how points are distributed within polygons"
     ]
    },
    {
     "cell_type": "code",
     "collapsed": false,
     "input": [
      "# safe for up to 4 regions\n",
      "colors = ['b','g','k','y']\n",
      "\n",
      "\n",
      "plt.scatter(pts[:,0],pts[:,1],color='r')\n",
      "for i in np.arange( len(polygons)) :\n",
      "    region = polygons[i]\n",
      "    #region *=50\n",
      "    # displaying points within each respective region\n",
      "    passing = GetWithinPoly(region,pts) \n",
      "    plt.scatter(passing[:,0],passing[:,1],color=colors[i%4]) # repeat every 4 \n",
      "   "
     ],
     "language": "python",
     "metadata": {},
     "outputs": [
      {
       "metadata": {},
       "output_type": "display_data",
       "png": "[encoded data removed]",
       "text": [
        "<matplotlib.figure.Figure at 0x7f9896f17350>"
       ]
      }
     ],
     "prompt_number": 77
    },
    {
     "cell_type": "markdown",
     "metadata": {},
     "source": [
      "#### Find randomly distributed (amorphous) region between polygons\n",
      "Technically should use an MC engine to pack finite-sized points, but not a big deal"
     ]
    },
    {
     "cell_type": "code",
     "collapsed": false,
     "input": [
      "def FindInterfacialPoints(pts,polygons):\n",
      "    results = np.zeros( np.shape(pts)[0] )\n",
      "    for i in np.arange( len(polygons)) :\n",
      "        region = polygons[i]\n",
      "\n",
      "        # grabbing indices, so we can later select points that are -not- within the polygons\n",
      "        # for 'interfaces'\n",
      "        resultsi = pnpoly(region,pts)\n",
      "        results+=resultsi\n",
      "\n",
      "    idx = np.argwhere( results == 0)\n",
      "    interfacial =  pts[idx,:]\n",
      "    nPts= np.shape(idx)[0]\n",
      "    interfacial = np.reshape( interfacial, [nPts,2])\n",
      "    #print np.shape( interfacial )\n",
      "    plt.scatter( interfacial[:,0],interfacial[:,1]  )\n",
      "    \n",
      "    return interfacial"
     ],
     "language": "python",
     "metadata": {},
     "outputs": [],
     "prompt_number": 78
    },
    {
     "cell_type": "code",
     "collapsed": false,
     "input": [
      "x = np.arange(6).reshape(2,3)\n",
      "\n",
      "x\n",
      "np.argwhere(x>1)\n"
     ],
     "language": "python",
     "metadata": {},
     "outputs": [
      {
       "metadata": {},
       "output_type": "pyout",
       "prompt_number": 79,
       "text": [
        "array([[0, 2],\n",
        "       [1, 0],\n",
        "       [1, 1],\n",
        "       [1, 2]])"
       ]
      }
     ],
     "prompt_number": 79
    },
    {
     "cell_type": "code",
     "collapsed": false,
     "input": [
      "# random pts (in [-2,-2]..[2,2])\n",
      "boundingBox = np.array([[-1,-1],[1,1]]) # WILL ASSUMED SQUARE FOR NOW\n",
      "boundingBox *= 2\n",
      "nPts =  1000 \n",
      "pts = np.reshape(np.random.rand(nPts*2), [nPts,2])-np.array([0.5,0.5])\n",
      "pts *= boundingBox[1,0]-boundingBox[0,0]\n",
      "\n",
      "interfacialPts = FindInterfacialPoints(pts,polygons)"
     ],
     "language": "python",
     "metadata": {},
     "outputs": [
      {
       "metadata": {},
       "output_type": "display_data",
       "png": "[encoded data removed]",
       "text": [
        "<matplotlib.figure.Figure at 0x7f9896d15c90>"
       ]
      }
     ],
     "prompt_number": 139
    },
    {
     "cell_type": "code",
     "collapsed": false,
     "input": [],
     "language": "python",
     "metadata": {},
     "outputs": [],
     "prompt_number": 139
    },
    {
     "cell_type": "code",
     "collapsed": false,
     "input": [],
     "language": "python",
     "metadata": {},
     "outputs": [],
     "prompt_number": 139
    },
    {
     "cell_type": "markdown",
     "metadata": {},
     "source": [
      "#### Simulating 'polymorphism'\n",
      "For simplicity, I'm using a lattice comprised of a square unit cell. This can easily be replaced with the hexagonal code I wrote in my other notebook. "
     ]
    },
    {
     "cell_type": "code",
     "collapsed": false,
     "input": [
      "# regularly-spaced points\n",
      "s = np.sqrt(2) # so we will always fill bounding box, despite rotation\n",
      "x,y = np.meshgrid(\n",
      "    np.linspace(boundingBox[0,0]*s,boundingBox[1,0]*s,31),\n",
      "    np.linspace(boundingBox[0,0]*s,boundingBox[1,0]*s,31),\n",
      ")\n",
      "xf = np.ndarray.flatten(x)\n",
      "yf = np.ndarray.flatten(y)\n",
      "\n",
      "lattice = np.array(zip(xf,yf))\n",
      "#print coords"
     ],
     "language": "python",
     "metadata": {},
     "outputs": [],
     "prompt_number": 140
    },
    {
     "cell_type": "code",
     "collapsed": false,
     "input": [
      "%load_ext autoreload\n",
      "%autoreload 2\n",
      "import hexagonFFF as hx"
     ],
     "language": "python",
     "metadata": {},
     "outputs": [
      {
       "output_type": "stream",
       "stream": "stdout",
       "text": [
        "The autoreload extension is already loaded. To reload it, use:\n",
        "  %reload_ext autoreload\n"
       ]
      }
     ],
     "prompt_number": 141
    },
    {
     "cell_type": "code",
     "collapsed": false,
     "input": [
      "boundingBox[0]"
     ],
     "language": "python",
     "metadata": {},
     "outputs": [
      {
       "metadata": {},
       "output_type": "pyout",
       "prompt_number": 142,
       "text": [
        "array([-2, -2])"
       ]
      }
     ],
     "prompt_number": 142
    },
    {
     "cell_type": "markdown",
     "metadata": {},
     "source": [
      "Hexagonal"
     ]
    },
    {
     "cell_type": "code",
     "collapsed": false,
     "input": [
      "# regularly-spaced points\n",
      "s = np.sqrt(2) # so we will always fill bounding box, despite rotation\n",
      "vals = hx.drawHexagonalGrid(8,8,2,True, boundingBox[0].tolist())\n",
      "#print hx.drawHexagonalGrid(31,31,1,True, boundingBox[0].tolist())\n",
      "x = vals[:,0]\n",
      "y = vals[:,1]\n",
      "xf = np.ndarray.flatten(x)\n",
      "yf = np.ndarray.flatten(y)\n",
      "\n",
      "lattice = np.array(zip(xf,yf))\n",
      "#print coords"
     ],
     "language": "python",
     "metadata": {},
     "outputs": [
      {
       "output_type": "stream",
       "stream": "stdout",
       "text": [
        "(305, 2)\n"
       ]
      }
     ],
     "prompt_number": 150
    },
    {
     "cell_type": "markdown",
     "metadata": {},
     "source": [
      "Randomize rotations"
     ]
    },
    {
     "cell_type": "code",
     "collapsed": false,
     "input": [
      "#t = 3*np.pi/2.\n",
      "def rot(t):\n",
      "    R = np.array([[np.cos(t),-np.sin(t)],[np.sin(t),np.cos(t)]])\n",
      "    return R\n",
      "#print R"
     ],
     "language": "python",
     "metadata": {},
     "outputs": [],
     "prompt_number": 151
    },
    {
     "cell_type": "markdown",
     "metadata": {},
     "source": [
      "test"
     ]
    },
    {
     "cell_type": "code",
     "collapsed": false,
     "input": [
      "def randrot(coords):\n",
      "    t = (np.random.rand(1) * np.pi/4.)[0]\n",
      "    R = rot( t )\n",
      "    c = np.dot(R,np.transpose(lattice))\n",
      "    c = np.transpose(c)\n",
      "    return c\n",
      "\n",
      "c = randrot(lattice)\n",
      "plt.axis('equal')\n",
      "plt.scatter(c[:,0],c[:,1])"
     ],
     "language": "python",
     "metadata": {},
     "outputs": [
      {
       "metadata": {},
       "output_type": "pyout",
       "prompt_number": 152,
       "text": [
        "<matplotlib.collections.PathCollection at 0x7f989685c150>"
       ]
      },
      {
       "metadata": {},
       "output_type": "display_data",
       "png": "[encoded data removed]",
       "text": [
        "<matplotlib.figure.Figure at 0x7f9896a28450>"
       ]
      }
     ],
     "prompt_number": 152
    },
    {
     "cell_type": "code",
     "collapsed": false,
     "input": [],
     "language": "python",
     "metadata": {},
     "outputs": [],
     "prompt_number": 152
    },
    {
     "cell_type": "markdown",
     "metadata": {},
     "source": [
      "pts*=50\n",
      "passing*=50\n",
      "polygons*= 50\n",
      "interfacialPts *= 50"
     ]
    },
    {
     "cell_type": "code",
     "collapsed": false,
     "input": [
      "plt.axis('equal')\n",
      "allPassing = []\n",
      "for i in np.arange( len(polygons)) :\n",
      "    region = polygons[i]\n",
      "    \n",
      "    # create random xtal config \n",
      "    c = randrot(lattice)\n",
      "    c[:,1]-=16\n",
      "    c[:,0]-=8\n",
      "    c/=8\n",
      "    # displaying points within each respective region\n",
      "    passing = GetWithinPoly(region,c) \n",
      "    plt.scatter(passing[:,0],passing[:,1],color=colors[i%4]) # repeat every 4 \n",
      "    allPassing.append(passing)\n",
      "\n",
      "# add interface     \n",
      "#plt.scatter( interfacialPts[:,0],interfacialPts[:,1],color='r'  ) \n",
      "#newInt = interfacialPts[::5]\n",
      "#plt.scatter(newInt[:,0],newInt[:,1],color='r'  ) \n",
      "allPassing.append(interfacialPts)\n",
      "\n",
      "allPassing = np.concatenate(allPassing)\n"
     ],
     "language": "python",
     "metadata": {},
     "outputs": [
      {
       "metadata": {},
       "output_type": "display_data",
       "png": "[encoded data removed]",
       "text": [
        "<matplotlib.figure.Figure at 0x7f9896a0fcd0>"
       ]
      }
     ],
     "prompt_number": 156
    },
    {
     "cell_type": "code",
     "collapsed": false,
     "input": [
      "polygons"
     ],
     "language": "python",
     "metadata": {},
     "outputs": [
      {
       "metadata": {},
       "output_type": "pyout",
       "prompt_number": 160,
       "text": [
        "[array([[ -0.1734832 ,   0.15512116],\n",
        "        [  0.91072818,  10.09617169],\n",
        "        [ -9.93185436,  -2.02987134],\n",
        "        [ -0.1734832 ,   0.15512116]]), array([[ -0.27179858,  -0.2284366 ],\n",
        "        [-10.03016975,  -2.4134291 ],\n",
        "        [ -4.10335665,  -9.46527387],\n",
        "        [ -0.27179858,  -0.2284366 ]]), array([[ 0.09042473, -0.29470188],\n",
        "        [-3.74113334, -9.53153915],\n",
        "        [ 8.44321914, -5.79295846],\n",
        "        [ 0.09042473, -0.29470188]]), array([[  0.18874012,   0.08885588],\n",
        "        [  8.54153453,  -5.40940071],\n",
        "        [  1.2729515 ,  10.02990641],\n",
        "        [  0.18874012,   0.08885588]])]"
       ]
      }
     ],
     "prompt_number": 160
    },
    {
     "cell_type": "code",
     "collapsed": false,
     "input": [],
     "language": "python",
     "metadata": {},
     "outputs": []
    },
    {
     "cell_type": "code",
     "collapsed": false,
     "input": [
      "plt.axis('equal')\n",
      "allPassing = []\n",
      "for i in np.arange( len(polygons)) :\n",
      "    region = polygons[i]\n",
      "    \n",
      "    # create random xtal config \n",
      "    c = randrot(lattice)\n",
      "    c[:,1]-=16\n",
      "    c[:,0]-=8\n",
      "    c/=8\n",
      "    # displaying points within each respective region\n",
      "    passing = GetWithinPoly(region,c) \n",
      "    plt.scatter(passing[:,0],passing[:,1],color=colors[i%4]) # repeat every 4 \n",
      "    allPassing.append(passing)\n",
      "\n",
      "# add interface     \n",
      "newInt = interfacialPts[::5]\n",
      "plt.scatter(newInt[:,0],newInt[:,1],color='r'  ) \n",
      "allPassing.append(newInt)\n",
      "\n",
      "allPassing = np.concatenate(allPassing)\n"
     ],
     "language": "python",
     "metadata": {},
     "outputs": [
      {
       "metadata": {},
       "output_type": "display_data",
       "png": "[encoded data removed]",
       "text": [
        "<matplotlib.figure.Figure at 0x7f9896dc9190>"
       ]
      }
     ],
     "prompt_number": 157
    },
    {
     "cell_type": "markdown",
     "metadata": {},
     "source": [
      "Finally, grab only those points within bounding box "
     ]
    },
    {
     "cell_type": "code",
     "collapsed": false,
     "input": [
      "bounds = np.array([\n",
      "  boundingBox[0,:],\n",
      "  [boundingBox[0,0],boundingBox[1,1]],\n",
      "  boundingBox[1,:],    \n",
      "  [boundingBox[1,0],boundingBox[0,1]],   \n",
      "  boundingBox[0,:]    \n",
      "])\n",
      "#print bounds\n",
      "\n",
      "plt.axis('equal')\n",
      "passing = GetWithinPoly(bounds,allPassing) \n",
      "plt.scatter(passing[:,0],passing[:,1],s=0.3)\n"
     ],
     "language": "python",
     "metadata": {},
     "outputs": [
      {
       "metadata": {},
       "output_type": "pyout",
       "prompt_number": 148,
       "text": [
        "<matplotlib.collections.PathCollection at 0x7f9896962cd0>"
       ]
      },
      {
       "metadata": {},
       "output_type": "display_data",
       "png": "[encoded data removed]",
       "text": [
        "<matplotlib.figure.Figure at 0x7f9896b70c10>"
       ]
      }
     ],
     "prompt_number": 148
    },
    {
     "cell_type": "code",
     "collapsed": false,
     "input": [
      "pwd\n"
     ],
     "language": "python",
     "metadata": {},
     "outputs": [
      {
       "metadata": {},
       "output_type": "pyout",
       "prompt_number": 149,
       "text": [
        "u'/home/AD/srbl226/spark/sparkdetection/mach'"
       ]
      }
     ],
     "prompt_number": 149
    },
    {
     "cell_type": "code",
     "collapsed": true,
     "input": [],
     "language": "python",
     "metadata": {},
     "outputs": [],
     "prompt_number": 149
    },
    {
     "cell_type": "code",
     "collapsed": false,
     "input": [],
     "language": "python",
     "metadata": {},
     "outputs": [],
     "prompt_number": 149
    },
    {
     "cell_type": "code",
     "collapsed": false,
     "input": [],
     "language": "python",
     "metadata": {},
     "outputs": [],
     "prompt_number": 149
    },
    {
     "cell_type": "code",
     "collapsed": false,
     "input": [],
     "language": "python",
     "metadata": {},
     "outputs": [],
     "prompt_number": 149
    },
    {
     "cell_type": "code",
     "collapsed": false,
     "input": [],
     "language": "python",
     "metadata": {},
     "outputs": [],
     "prompt_number": 149
    }
   ],
   "metadata": {}
  }
 ]
}