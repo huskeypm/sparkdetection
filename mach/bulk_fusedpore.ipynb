{
 "metadata": {
  "name": "",
  "signature": "sha256:93316f88b159ec94499c430888112d523cf739e93d0498c7cb1ae009beea7c5d"
 },
 "nbformat": 3,
 "nbformat_minor": 0,
 "worksheets": [
  {
   "cells": [
    {
     "cell_type": "markdown",
     "metadata": {},
     "source": [
      "### Generate bulk/fused pore fitting "
     ]
    },
    {
     "cell_type": "code",
     "collapsed": false,
     "input": [
      "%load_ext autoreload\n",
      "%autoreload 2\n",
      "%matplotlib inline\n",
      "import matplotlib.pyplot as plt\n",
      "import matplotlib.image as mpimg\n",
      "import cv2\n",
      "from scipy.misc import toimage\n",
      "import imutils\n",
      "import imtools as it"
     ],
     "language": "python",
     "metadata": {},
     "outputs": [
      {
       "output_type": "stream",
       "stream": "stdout",
       "text": [
        "The autoreload extension is already loaded. To reload it, use:\n",
        "  %reload_ext autoreload\n"
       ]
      }
     ],
     "prompt_number": 11
    },
    {
     "cell_type": "markdown",
     "metadata": {},
     "source": [
      "Copied files from ryan's dir into shared directory\n",
      "- <font color=red>Need to connect to procedure for how these were generated</font>\n",
      "- rename files \n",
      "- merge imtools with util"
     ]
    },
    {
     "cell_type": "markdown",
     "metadata": {},
     "source": [
      "# How was fusedCropped made\n",
      "\n",
      "Need to use real data for fused pore filter \n"
     ]
    },
    {
     "cell_type": "markdown",
     "metadata": {},
     "source": [
      "### Loading data "
     ]
    },
    {
     "cell_type": "code",
     "collapsed": false,
     "input": [
      "root = \"/net/share/shared/papers/nanoporous/images/\"\n",
      "# Raw data with fused pores\n",
      "rawFused = cv2.imread(root+'fusedCroppedCLAHE.png')\n",
      "fusedFilter = cv2.imread(root+'fusedBase.png')\n",
      "rawFused = cv2.cvtColor(rawFused, cv2.COLOR_BGR2GRAY)\n",
      "fusedFilter = cv2.cvtColor(fusedFilter, cv2.COLOR_BGR2GRAY)\n",
      "unitXtal = fusedFilter\n",
      "bulkFilter = cv2.imread(root+'bulkCellTEM.png')\n",
      "bulkFilter = cv2.cvtColor(bulkFilter, cv2.COLOR_BGR2GRAY)\n",
      "#unitBulk = fusedReal[305:327,318:358]"
     ],
     "language": "python",
     "metadata": {},
     "outputs": [],
     "prompt_number": 12
    },
    {
     "cell_type": "code",
     "collapsed": false,
     "input": [
      "import painter as Paint\n",
      "#import random as rand"
     ],
     "language": "python",
     "metadata": {},
     "outputs": [],
     "prompt_number": 13
    },
    {
     "cell_type": "code",
     "collapsed": false,
     "input": [
      "from scipy.misc import toimage"
     ],
     "language": "python",
     "metadata": {},
     "outputs": [],
     "prompt_number": 14
    },
    {
     "cell_type": "code",
     "collapsed": false,
     "input": [
      "  "
     ],
     "language": "python",
     "metadata": {},
     "outputs": [],
     "prompt_number": 14
    },
    {
     "cell_type": "markdown",
     "metadata": {},
     "source": [
      "There is some randomness with this algorithm I don't understand "
     ]
    },
    {
     "cell_type": "code",
     "collapsed": false,
     "input": [
      "import util2\n",
      "threshold = 230\n",
      "iters = [0,10,20,30,40,50,60,70,80,90]\n",
      "#iters = [0,30,90]\n",
      "cropper=[25,125,25,125]\n",
      "Paint.correlateThresher(rawFused,fusedFilter, threshold, cropper, iters,fused=True)\n"
     ],
     "language": "python",
     "metadata": {},
     "outputs": [],
     "prompt_number": 22
    },
    {
     "cell_type": "code",
     "collapsed": false,
     "input": [
      "maskList = []\n",
      "for i, iteration in enumerate(iters):\n",
      "    print \"iter\", iteration\n",
      "    #maskList.append(makeMask(threshold,'fusedCorrelated_Not_rotated_back{}.png'.format(iteration)))\n",
      "    \n",
      "    \n",
      "    maskList.append((util2.rotater(util2.makeMask(threshold,'fusedCorrelated_{}.png'.format(iteration)),iteration)))\n",
      "#print maskList\n",
      "\n",
      "myList  = np.sum(maskList, axis =0)"
     ],
     "language": "python",
     "metadata": {},
     "outputs": [
      {
       "output_type": "stream",
       "stream": "stdout",
       "text": [
        "iter 0\n",
        "iter"
       ]
      },
      {
       "output_type": "stream",
       "stream": "stdout",
       "text": [
        " 10\n",
        "iter"
       ]
      },
      {
       "output_type": "stream",
       "stream": "stdout",
       "text": [
        " 20\n",
        "iter"
       ]
      },
      {
       "output_type": "stream",
       "stream": "stdout",
       "text": [
        " 30\n",
        "iter 40\n",
        "iter"
       ]
      },
      {
       "output_type": "stream",
       "stream": "stdout",
       "text": [
        " 50\n",
        "iter 60\n",
        "iter 70\n"
       ]
      },
      {
       "ename": "ValueError",
       "evalue": "cannot reshape array of size 7 into shape (3,2)",
       "output_type": "pyerr",
       "traceback": [
        "\u001b[0;31m---------------------------------------------------------------------------\u001b[0m\n\u001b[0;31mValueError\u001b[0m                                Traceback (most recent call last)",
        "\u001b[0;32m<ipython-input-24-3786cccc254b>\u001b[0m in \u001b[0;36m<module>\u001b[0;34m()\u001b[0m\n\u001b[1;32m      5\u001b[0m \u001b[0;34m\u001b[0m\u001b[0m\n\u001b[1;32m      6\u001b[0m \u001b[0;34m\u001b[0m\u001b[0m\n\u001b[0;32m----> 7\u001b[0;31m     \u001b[0mmaskList\u001b[0m\u001b[0;34m.\u001b[0m\u001b[0mappend\u001b[0m\u001b[0;34m(\u001b[0m\u001b[0;34m(\u001b[0m\u001b[0mutil2\u001b[0m\u001b[0;34m.\u001b[0m\u001b[0mrotater\u001b[0m\u001b[0;34m(\u001b[0m\u001b[0mutil2\u001b[0m\u001b[0;34m.\u001b[0m\u001b[0mmakeMask\u001b[0m\u001b[0;34m(\u001b[0m\u001b[0mthreshold\u001b[0m\u001b[0;34m,\u001b[0m\u001b[0;34m'fusedCorrelated_{}.png'\u001b[0m\u001b[0;34m.\u001b[0m\u001b[0mformat\u001b[0m\u001b[0;34m(\u001b[0m\u001b[0miteration\u001b[0m\u001b[0;34m)\u001b[0m\u001b[0;34m)\u001b[0m\u001b[0;34m,\u001b[0m\u001b[0miteration\u001b[0m\u001b[0;34m)\u001b[0m\u001b[0;34m)\u001b[0m\u001b[0;34m)\u001b[0m\u001b[0;34m\u001b[0m\u001b[0m\n\u001b[0m\u001b[1;32m      8\u001b[0m \u001b[0;31m#print maskList\u001b[0m\u001b[0;34m\u001b[0m\u001b[0;34m\u001b[0m\u001b[0m\n\u001b[1;32m      9\u001b[0m \u001b[0;34m\u001b[0m\u001b[0m\n",
        "\u001b[0;32m/u2/pmke226/sources/sparkdetection/mach/util2.pyc\u001b[0m in \u001b[0;36mmakeMask\u001b[0;34m(threshold, img)\u001b[0m\n\u001b[1;32m    103\u001b[0m         \u001b[0motherCenters\u001b[0m \u001b[0;34m=\u001b[0m \u001b[0mnp\u001b[0m\u001b[0;34m.\u001b[0m\u001b[0mdelete\u001b[0m\u001b[0;34m(\u001b[0m\u001b[0mothers\u001b[0m\u001b[0;34m,\u001b[0m \u001b[0mIS\u001b[0m\u001b[0;34m)\u001b[0m\u001b[0;34m\u001b[0m\u001b[0m\n\u001b[1;32m    104\u001b[0m         \u001b[0;31m#print \"center new\", otherCenters\u001b[0m\u001b[0;34m\u001b[0m\u001b[0;34m\u001b[0m\u001b[0m\n\u001b[0;32m--> 105\u001b[0;31m         \u001b[0moC\u001b[0m \u001b[0;34m=\u001b[0m\u001b[0motherCenters\u001b[0m\u001b[0;34m.\u001b[0m\u001b[0mreshape\u001b[0m\u001b[0;34m(\u001b[0m\u001b[0;36m3\u001b[0m\u001b[0;34m,\u001b[0m\u001b[0;36m2\u001b[0m\u001b[0;34m)\u001b[0m\u001b[0;34m\u001b[0m\u001b[0m\n\u001b[0m\u001b[1;32m    106\u001b[0m         \u001b[0;32mfor\u001b[0m \u001b[0mk\u001b[0m\u001b[0;34m,\u001b[0m \u001b[0mkenter\u001b[0m \u001b[0;32min\u001b[0m \u001b[0menumerate\u001b[0m\u001b[0;34m(\u001b[0m\u001b[0moC\u001b[0m\u001b[0;34m)\u001b[0m\u001b[0;34m:\u001b[0m\u001b[0;34m\u001b[0m\u001b[0m\n\u001b[1;32m    107\u001b[0m           \u001b[0mmybool\u001b[0m \u001b[0;34m=\u001b[0m \u001b[0mcenter\u001b[0m\u001b[0;34m[\u001b[0m\u001b[0;36m1\u001b[0m\u001b[0;34m]\u001b[0m \u001b[0;32mnot\u001b[0m \u001b[0;32min\u001b[0m \u001b[0mxs\u001b[0m\u001b[0;34m\u001b[0m\u001b[0m\n",
        "\u001b[0;31mValueError\u001b[0m: cannot reshape array of size 7 into shape (3,2)"
       ]
      },
      {
       "metadata": {},
       "output_type": "display_data",
       "png": "[encoded data removed]",
       "text": [
        "<matplotlib.figure.Figure at 0x7f8f44b43950>"
       ]
      }
     ],
     "prompt_number": 24
    },
    {
     "cell_type": "code",
     "collapsed": false,
     "input": [],
     "language": "python",
     "metadata": {},
     "outputs": [],
     "prompt_number": 19
    },
    {
     "cell_type": "code",
     "collapsed": false,
     "input": [],
     "language": "python",
     "metadata": {},
     "outputs": []
    }
   ],
   "metadata": {}
  }
 ]
}