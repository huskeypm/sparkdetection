{
 "metadata": {
  "name": "",
  "signature": "sha256:fec956be88151c60bb1c65160cac0b2e17fbb3f53841522a5a53d8302e91a439"
 },
 "nbformat": 3,
 "nbformat_minor": 0,
 "worksheets": [
  {
   "cells": [
    {
     "cell_type": "markdown",
     "metadata": {},
     "source": [
      "## minimum average correlation energe filter test\n",
      "\n",
      "Trying to debug my MACH filter, so here's an implemention that is known to work. Based on \n",
      "- https://dsp.stackexchange.com/questions/2604/correlation-filter-output-range-normalization\n",
      "- https://dsp.stackexchange.com/questions/10994/mace-correlation-filter-any-suggested-values-of-of-u/11093\n",
      "\n",
      "MACE:\n",
      "$$\n",
      "H = D^{-1} X(X^* D^{-1} X)^{-1} u\n",
      "$$\n",
      "- X is a $n \\times (d^2)$ array comprised of $n$ vectorized ($d\\times d \\rightarrow 1\\times d^2$) Fourier-transformed images. \n",
      "- D is a diagonal matrix, whose diagonal is determined from averaging the images in $X$\n",
      "- $X^*$ is the transposed complex conjungate of X"
     ]
    },
    {
     "cell_type": "code",
     "collapsed": false,
     "input": [
      "%load_ext autoreload\n",
      "%autoreload 2\n",
      "%matplotlib inline\n",
      "import cv2"
     ],
     "language": "python",
     "metadata": {},
     "outputs": [
      {
       "output_type": "stream",
       "stream": "stdout",
       "text": [
        "The autoreload extension is already loaded. To reload it, use:\n",
        "  %reload_ext autoreload\n"
       ]
      }
     ],
     "prompt_number": 31
    },
    {
     "cell_type": "markdown",
     "metadata": {},
     "source": [
      "### Load image\n",
      "\n",
      "SInce matrix inversion is expensive, we will truncate the image to a very small region. \n",
      "Later mach filter avoids this inversion "
     ]
    },
    {
     "cell_type": "code",
     "collapsed": false,
     "input": [
      "fileName = \"images/a.png\"\n",
      "import util \n",
      "img = util.ReadImg(fileName)\n",
      "\n",
      "img = img[112:128,112:128]\n",
      "\n",
      "# normally we'd use a diverse set of input images\n",
      "nImg = 16 # shouldn't be a hard constraint; dbl check math \n",
      "imgs = [img for i in range(nImg)]\n"
     ],
     "language": "python",
     "metadata": {},
     "outputs": [],
     "prompt_number": 32
    },
    {
     "cell_type": "markdown",
     "metadata": {},
     "source": [
      "### Prepare matrix of vectorized of FFT'd images"
     ]
    },
    {
     "cell_type": "code",
     "collapsed": false,
     "input": [
      "X = util.CalcX(imgs)    "
     ],
     "language": "python",
     "metadata": {},
     "outputs": [
      {
       "metadata": {},
       "output_type": "display_data",
       "png": "[encoded data removed]",
       "text": [
        "<matplotlib.figure.Figure at 0x7f2a74032ed0>"
       ]
      }
     ],
     "prompt_number": 33
    },
    {
     "cell_type": "markdown",
     "metadata": {},
     "source": [
      "### Create MACE filter"
     ]
    },
    {
     "cell_type": "code",
     "collapsed": false,
     "input": [
      "from numpy.linalg import inv\n",
      "import scipy.fftpack as fftp\n",
      "def MACE(\n",
      "    X,    # matrix of vectorized img\n",
      "    I,     # example img (mostly for reshaping)\n",
      "    debug = True \n",
      "):\n",
      "    ##D = diag(mean(abs(X),2)); \n",
      "    meanX = np.mean(np.abs(X),axis=0)\n",
      "    D = np.diag( meanX )\n",
      "    if debug:\n",
      "        ex = np.reshape(meanX,np.shape(I))\n",
      "        util.myplot(ex)\n",
      "    #% inv(A) * B = A \\ B \n",
      "    ##XDX = ctranspose(X) * (D \\ X); \n",
      "    # very expensive\n",
      "    iD = inv(D); #print np.shape(iD)\n",
      "    iDX = np.dot(iD,X.transpose())\n",
      "    XDX = np.dot(np.conj(X),iDX)\n",
      "\n",
      "    ## h = (D \\ X) * (XDX \\ u); \n",
      "    u = np.ones(nImg)  # this is used to select a subset of images for training\n",
      "                       # 1 - signifies that filter should detect image i\n",
      "                       # 0 - signifies filter should NOT detect image i \n",
      "    XDXu = np.dot(XDX,u)\n",
      "    h = np.dot(iDX,XDXu)\n",
      "    H = np.reshape(h,np.shape(I))\n",
      "    return H\n",
      "\n",
      "\n",
      "I = fftp.fft2(img)\n",
      "H = MACE(X,I)"
     ],
     "language": "python",
     "metadata": {},
     "outputs": [
      {
       "metadata": {},
       "output_type": "display_data",
       "png": "[encoded data removed]",
       "text": [
        "<matplotlib.figure.Figure at 0x7f2a57a96d90>"
       ]
      }
     ],
     "prompt_number": 39
    },
    {
     "cell_type": "markdown",
     "metadata": {},
     "source": [
      "### Validation against noise "
     ]
    },
    {
     "cell_type": "code",
     "collapsed": false,
     "input": [
      "# test with example image \n",
      "corr,maxTruth = util.TestFilter(H,I)\n",
      "\n",
      "plt.figure()\n",
      "noise = np.reshape(np.random.randn(16*16),np.shape(I))\n",
      "noise = fftp.fft2(noise)\n",
      "corr, maxNoise = util.TestFilter(H,noise)\n",
      "\n",
      "\n",
      "snr = np.log(maxTruth/maxNoise)\n",
      "print \"SNR \", snr\n",
      "snrRef = 7.6046\n",
      "#assert(np.abs(snr-snrRef)<1.0), \"Something's awry (%f/%f)\"%( snr,snrRef)"
     ],
     "language": "python",
     "metadata": {},
     "outputs": [
      {
       "output_type": "stream",
       "stream": "stdout",
       "text": [
        "Response 5.530773e+09\n",
        "Response 4.477523e+07"
       ]
      },
      {
       "output_type": "stream",
       "stream": "stdout",
       "text": [
        "\n",
        "SNR  4.81642789255\n"
       ]
      },
      {
       "metadata": {},
       "output_type": "display_data",
       "png": "[encoded data removed]",
       "text": [
        "<matplotlib.figure.Figure at 0x7f2a578efa50>"
       ]
      },
      {
       "metadata": {},
       "output_type": "display_data",
       "png": "[encoded data removed]",
       "text": [
        "<matplotlib.figure.Figure at 0x7f2a578efa10>"
       ]
      }
     ],
     "prompt_number": 43
    },
    {
     "cell_type": "code",
     "collapsed": false,
     "input": [],
     "language": "python",
     "metadata": {},
     "outputs": [],
     "prompt_number": 25
    },
    {
     "cell_type": "code",
     "collapsed": false,
     "input": [],
     "language": "python",
     "metadata": {},
     "outputs": [],
     "prompt_number": 25
    },
    {
     "cell_type": "code",
     "collapsed": false,
     "input": [],
     "language": "python",
     "metadata": {},
     "outputs": []
    }
   ],
   "metadata": {}
  }
 ]
}